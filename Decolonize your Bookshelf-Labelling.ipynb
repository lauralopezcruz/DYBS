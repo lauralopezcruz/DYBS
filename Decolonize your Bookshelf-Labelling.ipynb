{
 "cells": [
  {
   "cell_type": "markdown",
   "metadata": {},
   "source": [
    "The dataset can be downloaded [here](https://github.com/zygmuntz/goodbooks-10k). \n"
   ]
  },
  {
   "cell_type": "code",
   "execution_count": 212,
   "metadata": {},
   "outputs": [],
   "source": [
    "import pandas as pd\n",
    "book_tags = pd.read_csv('book_tags.csv')\n",
    "books = pd.read_csv('books.csv')\n",
    "tags = pd.read_csv('tags.csv')"
   ]
  },
  {
   "cell_type": "markdown",
   "metadata": {},
   "source": [
    "We first want to identify any authors of color based on book tags. Note that the authors column in the books dataframe needs cleaning, since audio books contain multiple authors. We just need the main author, which is the first."
   ]
  },
  {
   "cell_type": "code",
   "execution_count": 213,
   "metadata": {},
   "outputs": [],
   "source": [
    "books['authors'] = books.authors.apply(lambda x: x.split(',')[0])"
   ]
  },
  {
   "cell_type": "markdown",
   "metadata": {},
   "source": [
    "Now we search tag names that indicate we have an author of color."
   ]
  },
  {
   "cell_type": "code",
   "execution_count": 214,
   "metadata": {},
   "outputs": [],
   "source": [
    "key_words = ['poc', 'black', 'african', 'asian', 'color', 'latino', 'trans', 'hispanic']\n",
    "poc_tags = []\n",
    "# here we look for tags with any of the key words above together with\n",
    "for i in range(tags.shape[0]):\n",
    "    tag = tags.tag_name.loc[i].split('-')\n",
    "    for item in key_words:\n",
    "        if item in tag and ('author' in tag or 'authors' in tag or 'writer' in tag or 'writers' in tag):\n",
    "            poc_tags.append([tags.tag_id.loc[i], tags.tag_name.loc[i]])\n",
    "            "
   ]
  },
  {
   "cell_type": "code",
   "execution_count": 215,
   "metadata": {},
   "outputs": [
    {
     "data": {
      "text/plain": [
       "[1754, 1767, 1777, 3220, 3223]"
      ]
     },
     "execution_count": 215,
     "metadata": {},
     "output_type": "execute_result"
    }
   ],
   "source": [
    "poc_tag_ids = [tag[0] for tag in poc_tags]\n",
    "poc_tag_ids[:5]"
   ]
  },
  {
   "cell_type": "markdown",
   "metadata": {},
   "source": [
    "We want to use these book tags to label the authors as POCs. We will merge the book_tags dataframe with the books dataframe to match them up."
   ]
  },
  {
   "cell_type": "code",
   "execution_count": 216,
   "metadata": {
    "scrolled": false
   },
   "outputs": [
    {
     "data": {
      "text/html": [
       "<div>\n",
       "<style scoped>\n",
       "    .dataframe tbody tr th:only-of-type {\n",
       "        vertical-align: middle;\n",
       "    }\n",
       "\n",
       "    .dataframe tbody tr th {\n",
       "        vertical-align: top;\n",
       "    }\n",
       "\n",
       "    .dataframe thead th {\n",
       "        text-align: right;\n",
       "    }\n",
       "</style>\n",
       "<table border=\"1\" class=\"dataframe\">\n",
       "  <thead>\n",
       "    <tr style=\"text-align: right;\">\n",
       "      <th></th>\n",
       "      <th>goodreads_book_id</th>\n",
       "      <th>tag_id</th>\n",
       "      <th>count</th>\n",
       "      <th>book_id</th>\n",
       "      <th>authors</th>\n",
       "    </tr>\n",
       "  </thead>\n",
       "  <tbody>\n",
       "    <tr>\n",
       "      <td>0</td>\n",
       "      <td>1</td>\n",
       "      <td>30574</td>\n",
       "      <td>167697</td>\n",
       "      <td>27</td>\n",
       "      <td>J.K. Rowling</td>\n",
       "    </tr>\n",
       "    <tr>\n",
       "      <td>1</td>\n",
       "      <td>1</td>\n",
       "      <td>11305</td>\n",
       "      <td>37174</td>\n",
       "      <td>27</td>\n",
       "      <td>J.K. Rowling</td>\n",
       "    </tr>\n",
       "    <tr>\n",
       "      <td>2</td>\n",
       "      <td>1</td>\n",
       "      <td>11557</td>\n",
       "      <td>34173</td>\n",
       "      <td>27</td>\n",
       "      <td>J.K. Rowling</td>\n",
       "    </tr>\n",
       "  </tbody>\n",
       "</table>\n",
       "</div>"
      ],
      "text/plain": [
       "   goodreads_book_id  tag_id   count  book_id       authors\n",
       "0                  1   30574  167697       27  J.K. Rowling\n",
       "1                  1   11305   37174       27  J.K. Rowling\n",
       "2                  1   11557   34173       27  J.K. Rowling"
      ]
     },
     "execution_count": 216,
     "metadata": {},
     "output_type": "execute_result"
    }
   ],
   "source": [
    "author_tags = book_tags.merge(books[['goodreads_book_id', 'book_id', 'authors']], left_on = 'goodreads_book_id', right_on = 'goodreads_book_id')\n",
    "author_tags.head(3)"
   ]
  },
  {
   "cell_type": "markdown",
   "metadata": {},
   "source": [
    "Let's make a new column called 'poc' to label authors that are POC."
   ]
  },
  {
   "cell_type": "code",
   "execution_count": 217,
   "metadata": {},
   "outputs": [
    {
     "data": {
      "text/html": [
       "<div>\n",
       "<style scoped>\n",
       "    .dataframe tbody tr th:only-of-type {\n",
       "        vertical-align: middle;\n",
       "    }\n",
       "\n",
       "    .dataframe tbody tr th {\n",
       "        vertical-align: top;\n",
       "    }\n",
       "\n",
       "    .dataframe thead th {\n",
       "        text-align: right;\n",
       "    }\n",
       "</style>\n",
       "<table border=\"1\" class=\"dataframe\">\n",
       "  <thead>\n",
       "    <tr style=\"text-align: right;\">\n",
       "      <th></th>\n",
       "      <th>goodreads_book_id</th>\n",
       "      <th>tag_id</th>\n",
       "      <th>count</th>\n",
       "      <th>book_id</th>\n",
       "      <th>authors</th>\n",
       "      <th>poc</th>\n",
       "    </tr>\n",
       "  </thead>\n",
       "  <tbody>\n",
       "    <tr>\n",
       "      <td>0</td>\n",
       "      <td>1</td>\n",
       "      <td>30574</td>\n",
       "      <td>167697</td>\n",
       "      <td>27</td>\n",
       "      <td>J.K. Rowling</td>\n",
       "      <td></td>\n",
       "    </tr>\n",
       "    <tr>\n",
       "      <td>1</td>\n",
       "      <td>1</td>\n",
       "      <td>11305</td>\n",
       "      <td>37174</td>\n",
       "      <td>27</td>\n",
       "      <td>J.K. Rowling</td>\n",
       "      <td></td>\n",
       "    </tr>\n",
       "    <tr>\n",
       "      <td>2</td>\n",
       "      <td>1</td>\n",
       "      <td>11557</td>\n",
       "      <td>34173</td>\n",
       "      <td>27</td>\n",
       "      <td>J.K. Rowling</td>\n",
       "      <td></td>\n",
       "    </tr>\n",
       "    <tr>\n",
       "      <td>3</td>\n",
       "      <td>1</td>\n",
       "      <td>8717</td>\n",
       "      <td>12986</td>\n",
       "      <td>27</td>\n",
       "      <td>J.K. Rowling</td>\n",
       "      <td></td>\n",
       "    </tr>\n",
       "    <tr>\n",
       "      <td>4</td>\n",
       "      <td>1</td>\n",
       "      <td>33114</td>\n",
       "      <td>12716</td>\n",
       "      <td>27</td>\n",
       "      <td>J.K. Rowling</td>\n",
       "      <td></td>\n",
       "    </tr>\n",
       "  </tbody>\n",
       "</table>\n",
       "</div>"
      ],
      "text/plain": [
       "   goodreads_book_id  tag_id   count  book_id       authors poc\n",
       "0                  1   30574  167697       27  J.K. Rowling    \n",
       "1                  1   11305   37174       27  J.K. Rowling    \n",
       "2                  1   11557   34173       27  J.K. Rowling    \n",
       "3                  1    8717   12986       27  J.K. Rowling    \n",
       "4                  1   33114   12716       27  J.K. Rowling    "
      ]
     },
     "execution_count": 217,
     "metadata": {},
     "output_type": "execute_result"
    }
   ],
   "source": [
    "import numpy as np\n",
    "author_tags['poc'] = \"\"\n",
    "author_tags.head()"
   ]
  },
  {
   "cell_type": "code",
   "execution_count": 218,
   "metadata": {},
   "outputs": [],
   "source": [
    "for i in range(author_tags.shape[0]):\n",
    "    if author_tags.tag_id.loc[i] in poc_tag_ids:\n",
    "        author_tags.poc.loc[i] = 1"
   ]
  },
  {
   "cell_type": "code",
   "execution_count": 219,
   "metadata": {
    "scrolled": false
   },
   "outputs": [
    {
     "name": "stdout",
     "output_type": "stream",
     "text": [
      "There are  88  authors tagged as POC.\n"
     ]
    }
   ],
   "source": [
    "print('There are ', author_tags[author_tags.poc == 1].groupby('authors').poc.first().sum(), ' authors tagged as POC.')"
   ]
  },
  {
   "cell_type": "markdown",
   "metadata": {},
   "source": [
    "Let's try to identify more authors of color by scraping a list of POC authors from Goodreads.com. We'll need to clean it too."
   ]
  },
  {
   "cell_type": "code",
   "execution_count": 220,
   "metadata": {},
   "outputs": [],
   "source": [
    "urls = [f'https://www.goodreads.com/list/show/96119._ReadPOC_List_of_Books_by_Authors_of_Color?page={i}' for i in range(1,12)]"
   ]
  },
  {
   "cell_type": "code",
   "execution_count": 221,
   "metadata": {},
   "outputs": [],
   "source": [
    "from bs4 import BeautifulSoup\n",
    "import requests"
   ]
  },
  {
   "cell_type": "code",
   "execution_count": 222,
   "metadata": {
    "scrolled": true
   },
   "outputs": [],
   "source": [
    "goodreads_poc = []\n",
    "for url in urls:\n",
    "    soup = BeautifulSoup(requests.get(url).text, \"lxml\")\n",
    "    for i in soup.find_all('span', itemprop = 'name'):\n",
    "        goodreads_poc.append(i.text)"
   ]
  },
  {
   "cell_type": "code",
   "execution_count": 223,
   "metadata": {},
   "outputs": [],
   "source": [
    "goodreads_poc_authors = [item for item in goodreads_poc if goodreads_poc.index(item) % 2 == 1]"
   ]
  },
  {
   "cell_type": "code",
   "execution_count": 224,
   "metadata": {},
   "outputs": [],
   "source": [
    "for i in range(author_tags.shape[0]):\n",
    "    if author_tags.authors.loc[i] in goodreads_poc_authors:\n",
    "        author_tags.poc.loc[i] = 1"
   ]
  },
  {
   "cell_type": "code",
   "execution_count": 225,
   "metadata": {},
   "outputs": [
    {
     "name": "stdout",
     "output_type": "stream",
     "text": [
      "There are  186  authors tagged as POC.\n"
     ]
    }
   ],
   "source": [
    "print('There are ', author_tags[author_tags.poc == 1].groupby('authors', as_index = False).poc.first().shape[0], ' authors tagged as POC.')"
   ]
  },
  {
   "cell_type": "code",
   "execution_count": 226,
   "metadata": {
    "scrolled": true
   },
   "outputs": [],
   "source": [
    "authors_df = pd.DataFrame(author_tags[['authors', 'poc']])\n",
    "authors_df = authors_df.drop_duplicates(subset = ['authors', 'poc'])\n",
    "authors_df = authors_df.set_index('authors')"
   ]
  },
  {
   "cell_type": "markdown",
   "metadata": {},
   "source": [
    "Finally, let's write a function that will allow us to hand-label authors that are POC, in case we want to do it manually. We pickle author_tags each time we call the function."
   ]
  },
  {
   "cell_type": "markdown",
   "metadata": {},
   "source": [
    "We first need the following script to be able to print out a link. (I did not write this script.)"
   ]
  },
  {
   "cell_type": "code",
   "execution_count": 232,
   "metadata": {},
   "outputs": [],
   "source": [
    "\"\"\"URL Wrapper.\"\"\"\n",
    "\n",
    "from dataclasses import dataclass\n",
    "\n",
    "\n",
    "@dataclass(frozen=True)\n",
    "class Url:\n",
    "    \"\"\"Wrapper around a URL string to provide nice display in IPython environments.\"\"\"\n",
    "\n",
    "    __url: str\n",
    "\n",
    "    def _repr_html_(self):\n",
    "        \"\"\"HTML link to this URL.\"\"\"\n",
    "        return f'<a href=\"{self.__url}\">{self.__url}</a>'\n",
    "\n",
    "    def __str__(self):\n",
    "        \"\"\"Return the underlying string.\"\"\"\n",
    "        return self.__url"
   ]
  },
  {
   "cell_type": "markdown",
   "metadata": {},
   "source": [
    "The following script can be used to hand-label authors. This code will also print out a link to the author's Wikipidia page. This function can be used on any dataframe where the index are the author names, and there is a column labelled 'poc', where the entries are either \"\", 1 or 0."
   ]
  },
  {
   "cell_type": "code",
   "execution_count": 233,
   "metadata": {},
   "outputs": [],
   "source": [
    "import pickle"
   ]
  },
  {
   "cell_type": "code",
   "execution_count": 234,
   "metadata": {},
   "outputs": [],
   "source": [
    "def hand_label(authors_dataframe):\n",
    "    '''Input a dataframe where index are authors and dataframe has a 'poc' column. \n",
    "    Enter 'poc' if author is a POC, exit if you want to end the program,\n",
    "    and w to indicate not POC'''\n",
    "    author_label = None\n",
    "    for author in authors_dataframe.index:\n",
    "        if authors_dataframe.loc[author].poc  == \"\":\n",
    "            if author_label == 'exit':\n",
    "                break\n",
    "\n",
    "            while True:\n",
    "                print(Url('https://en.wikipedia.org/wiki/'+author.replace(' ','_')))\n",
    "                author_label = input(author + ' ') \n",
    "                if author_label == 'poc':\n",
    "                    authors_dataframe.loc[author]['poc'] = 1\n",
    "                    with open('authors_df.pkl', 'wb') as picklefile:\n",
    "                        pickle.dump(authors_dataframe, picklefile)\n",
    "                    break\n",
    "                elif author_label == 'w':\n",
    "                    authors_dataframe.loc[author]['poc'] = 0\n",
    "                    with open('authors_df.pkl', 'wb') as picklefile:\n",
    "                        pickle.dump(authors_dataframe, picklefile)\n",
    "                    break\n",
    "                else:\n",
    "                    break\n"
   ]
  },
  {
   "cell_type": "markdown",
   "metadata": {},
   "source": [
    "Try labelling some! Make sure to do your research."
   ]
  },
  {
   "cell_type": "code",
   "execution_count": 235,
   "metadata": {},
   "outputs": [
    {
     "name": "stdout",
     "output_type": "stream",
     "text": [
      "https://en.wikipedia.org/wiki/J.K._Rowling\n",
      "J.K. Rowling w\n",
      "https://en.wikipedia.org/wiki/Douglas_Adams\n",
      "Douglas Adams w\n",
      "https://en.wikipedia.org/wiki/Bill_Bryson\n",
      "Bill Bryson w\n",
      "https://en.wikipedia.org/wiki/J.R.R._Tolkien\n",
      "J.R.R. Tolkien w\n",
      "https://en.wikipedia.org/wiki/Chris___Smith\n",
      "Chris   Smith exit\n"
     ]
    }
   ],
   "source": [
    "hand_label(authors_df)"
   ]
  },
  {
   "cell_type": "code",
   "execution_count": 236,
   "metadata": {},
   "outputs": [
    {
     "data": {
      "text/plain": [
       "     3736\n",
       "1     186\n",
       "0       4\n",
       "Name: poc, dtype: int64"
      ]
     },
     "execution_count": 236,
     "metadata": {},
     "output_type": "execute_result"
    }
   ],
   "source": [
    "authors_df.poc.value_counts()"
   ]
  },
  {
   "cell_type": "code",
   "execution_count": null,
   "metadata": {},
   "outputs": [],
   "source": []
  }
 ],
 "metadata": {
  "kernelspec": {
   "display_name": "Python 3",
   "language": "python",
   "name": "python3"
  },
  "language_info": {
   "codemirror_mode": {
    "name": "ipython",
    "version": 3
   },
   "file_extension": ".py",
   "mimetype": "text/x-python",
   "name": "python",
   "nbconvert_exporter": "python",
   "pygments_lexer": "ipython3",
   "version": "3.7.4"
  }
 },
 "nbformat": 4,
 "nbformat_minor": 2
}
