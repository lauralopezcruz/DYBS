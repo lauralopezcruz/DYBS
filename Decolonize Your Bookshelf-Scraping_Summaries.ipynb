{
 "cells": [
  {
   "cell_type": "markdown",
   "metadata": {},
   "source": [
    "The dataset can be downloaded [here](https://github.com/zygmuntz/goodbooks-10k). "
   ]
  },
  {
   "cell_type": "code",
   "execution_count": 2,
   "metadata": {},
   "outputs": [],
   "source": [
    "import pandas as pd\n",
    "books = pd.read_csv('books.csv')"
   ]
  },
  {
   "cell_type": "code",
   "execution_count": 3,
   "metadata": {
    "scrolled": true
   },
   "outputs": [],
   "source": [
    "books = books[['goodreads_book_id', 'title']]\n",
    "books = books.rename(columns = {'goodreads_book_id':'book_id'})\n",
    "books = books.set_index('book_id')"
   ]
  },
  {
   "cell_type": "code",
   "execution_count": 4,
   "metadata": {},
   "outputs": [],
   "source": [
    "url = 'https://www.goodreads.com/book/show/'"
   ]
  },
  {
   "cell_type": "code",
   "execution_count": 5,
   "metadata": {
    "scrolled": true
   },
   "outputs": [],
   "source": [
    "books['summary'] = \"\" "
   ]
  },
  {
   "cell_type": "code",
   "execution_count": null,
   "metadata": {
    "scrolled": true
   },
   "outputs": [],
   "source": [
    "import pickle\n",
    "import time\n",
    "import requests\n",
    "from bs4 import BeautifulSoup"
   ]
  },
  {
   "cell_type": "code",
   "execution_count": null,
   "metadata": {},
   "outputs": [],
   "source": [
    "while True:\n",
    "    book_ids = list(books[books.summary == \"\"].index.unique())\n",
    "    \n",
    "    print('\\n\\n\\n\\n books left: ', len(book_ids), '\\n') #This tells us how many book summaries are left to scrape.\n",
    "    \n",
    "    if len(book_ids) <= 45:\n",
    "        break\n",
    "\n",
    "    for index, book_id in enumerate(book_ids):\n",
    "        #We pickle the dataframe every 200 iterations and stop running for 60 seconds, to avoid getting \n",
    "        #blocked by Goodreads\n",
    "        if index % 200 == 199:\n",
    "            with open('book_summaries.pkl', 'wb') as picklefile:\n",
    "                pickle.dump(books, picklefile)\n",
    "            time.sleep(60)\n",
    "            \n",
    "        try: \n",
    "            request = requests.get(url+str(book_id))\n",
    "            text = request.text\n",
    "            soup = BeautifulSoup(text, \"lxml\")\n",
    "            summary = soup.find(\"div\", {\"id\": \"description\"}).find_all('span')[-1].text\n",
    "            books.summary.loc[book_id] = summary\n",
    "            print(book_id)\n",
    "            \n",
    "        except: \n",
    "            continue\n",
    "        \n",
    "    with open('book_summaries.pkl', 'wb') as picklefile:\n",
    "        pickle.dump(books, picklefile)\n",
    "            "
   ]
  },
  {
   "cell_type": "code",
   "execution_count": null,
   "metadata": {},
   "outputs": [],
   "source": []
  }
 ],
 "metadata": {
  "kernelspec": {
   "display_name": "Python 3",
   "language": "python",
   "name": "python3"
  },
  "language_info": {
   "codemirror_mode": {
    "name": "ipython",
    "version": 3
   },
   "file_extension": ".py",
   "mimetype": "text/x-python",
   "name": "python",
   "nbconvert_exporter": "python",
   "pygments_lexer": "ipython3",
   "version": "3.7.4"
  }
 },
 "nbformat": 4,
 "nbformat_minor": 2
}
