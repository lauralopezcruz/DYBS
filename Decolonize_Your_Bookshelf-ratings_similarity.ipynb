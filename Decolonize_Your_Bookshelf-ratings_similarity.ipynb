{
 "cells": [
  {
   "cell_type": "code",
   "execution_count": 1,
   "metadata": {},
   "outputs": [],
   "source": [
    "import numpy as np\n",
    "import pandas as pd\n",
    "from collections import defaultdict\n",
    "from collections import Counter\n",
    "import pickle\n",
    "import time\n",
    "import random"
   ]
  },
  {
   "cell_type": "code",
   "execution_count": 2,
   "metadata": {},
   "outputs": [],
   "source": [
    "books_df = pd.read_csv('books.csv')\n",
    "ratings = pd.read_csv('ratings.csv')"
   ]
  },
  {
   "cell_type": "code",
   "execution_count": 21,
   "metadata": {},
   "outputs": [
    {
     "data": {
      "text/plain": [
       "user_id    2886\n",
       "book_id       1\n",
       "rating        5\n",
       "Name: 217482, dtype: int64"
      ]
     },
     "execution_count": 21,
     "metadata": {},
     "output_type": "execute_result"
    }
   ],
   "source": [
    "ratings[ratings.book_id == 1].iloc[0]"
   ]
  },
  {
   "cell_type": "code",
   "execution_count": 31,
   "metadata": {},
   "outputs": [],
   "source": [
    "#Create list of dictionaries, one dict per book, where the keys are user_ids and values are ratings\n",
    "listOfDictonaries=[]\n",
    "indexMap = {}\n",
    "reverseIndexMap = {}\n",
    "ptr=0;\n",
    "testdf = ratings.copy()\n",
    "testdf = testdf[['user_id','rating']].groupby(testdf['book_id'])\n",
    "\n",
    "for groupKey in testdf.groups.keys():\n",
    "    tempDict={}\n",
    "    groupDF = testdf.get_group(groupKey)\n",
    "    \n",
    "    for i in range(0,len(groupDF)):\n",
    "        tempDict[groupDF.iloc[i,0]]=groupDF.iloc[i,1]\n",
    "        \n",
    "    indexMap[ptr]=groupKey\n",
    "    reverseIndexMap[groupKey] = ptr\n",
    "    ptr=ptr+1\n",
    "    listOfDictonaries.append(tempDict)    "
   ]
  },
  {
   "cell_type": "code",
   "execution_count": 32,
   "metadata": {},
   "outputs": [],
   "source": [
    "from sklearn.feature_extraction import DictVectorizer\n",
    "dictVectorizer = DictVectorizer(sparse=True)\n",
    "vector = dictVectorizer.fit_transform(listOfDictonaries)"
   ]
  },
  {
   "cell_type": "code",
   "execution_count": 33,
   "metadata": {},
   "outputs": [],
   "source": [
    "from sklearn.metrics.pairwise import cosine_similarity\n",
    "pairwiseSimilarity = cosine_similarity(vector)"
   ]
  },
  {
   "cell_type": "code",
   "execution_count": 35,
   "metadata": {},
   "outputs": [],
   "source": [
    "book_ratings_sim = pd.DataFrame(pairwiseSimilarity)"
   ]
  },
  {
   "cell_type": "code",
   "execution_count": 39,
   "metadata": {},
   "outputs": [],
   "source": [
    "with open('book_ratings_sim.pkl', 'wb') as picklefile:\n",
    "    pickle.dump(book_ratings_sim, picklefile)"
   ]
  }
 ],
 "metadata": {
  "kernelspec": {
   "display_name": "Python 3",
   "language": "python",
   "name": "python3"
  },
  "language_info": {
   "codemirror_mode": {
    "name": "ipython",
    "version": 3
   },
   "file_extension": ".py",
   "mimetype": "text/x-python",
   "name": "python",
   "nbconvert_exporter": "python",
   "pygments_lexer": "ipython3",
   "version": "3.7.4"
  }
 },
 "nbformat": 4,
 "nbformat_minor": 2
}
